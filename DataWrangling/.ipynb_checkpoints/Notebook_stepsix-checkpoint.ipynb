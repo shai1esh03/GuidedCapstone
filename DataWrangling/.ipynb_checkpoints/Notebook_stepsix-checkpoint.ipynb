{
 "cells": [
  {
   "cell_type": "markdown",
   "metadata": {
    "colab_type": "text",
    "id": "cf5CmXQCZyF1"
   },
   "source": [
    "### Guided Capstone Step 6 Documentation"
   ]
  },
  {
   "cell_type": "markdown",
   "metadata": {
    "colab_type": "text",
    "id": "JbZXsVevfr9M"
   },
   "source": [
    "**The Data Science Method**  \n",
    "\n",
    "\n",
    "1.   Problem Identification \n",
    "\n",
    "2.   Data Wrangling \n",
    "  \n",
    "3.   Exploratory Data Analysis \n",
    " \n",
    "4.   Pre-processing and Training Data Development\n",
    "\n",
    "5.  Modeling\n",
    "\n",
    "6.   **Documentation**\n",
    "  * Review the Results\n",
    "  * Finalize Code \n",
    "  * Finalize Documentation\n",
    "  * Create a Project Report \n",
    "  * Create a Slide Deck for the Executive Audience"
   ]
  },
  {
   "cell_type": "markdown",
   "metadata": {
    "colab_type": "text",
    "id": "D-oGciwnGUYk"
   },
   "source": [
    "In this guided capstone we are going to revisit many of the actions we took in the previous guided capstone steps. This gives you the opportunity to practice the code you wrote to solve the questions in step 4 and 5. "
   ]
  },
  {
   "cell_type": "markdown",
   "metadata": {
    "colab_type": "text",
    "id": "K8xfkAqqZyF2"
   },
   "source": [
    "**<font color='teal'> Start by loading the necessary packages and printing out our current working directory just to confirm we are in the correct project directory. </font>**"
   ]
  },
  {
   "cell_type": "code",
   "execution_count": 1,
   "metadata": {
    "colab": {},
    "colab_type": "code",
    "id": "ry6WPL5eZyF3"
   },
   "outputs": [],
   "source": [
    "import os\n",
    "import pandas as pd\n",
    "import numpy as np\n",
    "import matplotlib.pyplot as plt\n",
    "import seaborn as sns\n",
    "from scipy import stats\n",
    "\n",
    "import pylab\n",
    "import math\n",
    "\n",
    "import statsmodels.api as sm\n",
    "from statsmodels.stats import diagnostic as diag\n",
    "from statsmodels.stats.outliers_influence import variance_inflation_factor\n",
    "\n",
    "from sklearn.model_selection import train_test_split\n",
    "from sklearn.linear_model import LinearRegression\n",
    "from sklearn.metrics import mean_squared_error, r2_score, mean_absolute_error\n",
    "\n",
    "\n",
    "%matplotlib inline"
   ]
  },
  {
   "cell_type": "code",
   "execution_count": 2,
   "metadata": {},
   "outputs": [
    {
     "data": {
      "text/plain": [
       "'/Users/tupran/Documents/Data/GitHub/GuidedCapstone/DataWrangling'"
      ]
     },
     "execution_count": 2,
     "metadata": {},
     "output_type": "execute_result"
    }
   ],
   "source": [
    "pwd"
   ]
  },
  {
   "cell_type": "markdown",
   "metadata": {
    "colab_type": "text",
    "id": "0HTP9cF2GUYs"
   },
   "source": [
    "## Fit Models with Training Data Set"
   ]
  },
  {
   "cell_type": "markdown",
   "metadata": {
    "colab_type": "text",
    "id": "A2FmSbtCGUYt"
   },
   "source": [
    "**<font color='teal'> Using sklearn fit the model you cose in Guided Capstone 5 on your training dataset. This includes: creating dummy features for states if you need them, scaling the data,and creating train and test splits before fitting the chosen model.Also, remember to generate a model performance score(MAE, or explained variance) based on the testing hold-out data set.</font>**"
   ]
  },
  {
   "cell_type": "markdown",
   "metadata": {
    "colab_type": "text",
    "id": "ReRSy1yFGUYu"
   },
   "source": [
    "#### Best Model "
   ]
  },
  {
   "cell_type": "code",
   "execution_count": 3,
   "metadata": {},
   "outputs": [
    {
     "data": {
      "text/html": [
       "<div>\n",
       "<style scoped>\n",
       "    .dataframe tbody tr th:only-of-type {\n",
       "        vertical-align: middle;\n",
       "    }\n",
       "\n",
       "    .dataframe tbody tr th {\n",
       "        vertical-align: top;\n",
       "    }\n",
       "\n",
       "    .dataframe thead th {\n",
       "        text-align: right;\n",
       "    }\n",
       "</style>\n",
       "<table border=\"1\" class=\"dataframe\">\n",
       "  <thead>\n",
       "    <tr style=\"text-align: right;\">\n",
       "      <th></th>\n",
       "      <th>state</th>\n",
       "      <th>summit_elev</th>\n",
       "      <th>vertical_drop</th>\n",
       "      <th>base_elev</th>\n",
       "      <th>fastSixes</th>\n",
       "      <th>fastQuads</th>\n",
       "      <th>quad</th>\n",
       "      <th>triple</th>\n",
       "      <th>double</th>\n",
       "      <th>surface</th>\n",
       "      <th>...</th>\n",
       "      <th>SkiableTerrain_ac</th>\n",
       "      <th>Snow Making_ac</th>\n",
       "      <th>daysOpenLastYear</th>\n",
       "      <th>yearsOpen</th>\n",
       "      <th>averageSnowfall</th>\n",
       "      <th>AdultWeekday</th>\n",
       "      <th>AdultWeekend</th>\n",
       "      <th>projectedDaysOpen</th>\n",
       "      <th>NightSkiing_ac</th>\n",
       "      <th>cluster</th>\n",
       "    </tr>\n",
       "    <tr>\n",
       "      <th>Name</th>\n",
       "      <th></th>\n",
       "      <th></th>\n",
       "      <th></th>\n",
       "      <th></th>\n",
       "      <th></th>\n",
       "      <th></th>\n",
       "      <th></th>\n",
       "      <th></th>\n",
       "      <th></th>\n",
       "      <th></th>\n",
       "      <th></th>\n",
       "      <th></th>\n",
       "      <th></th>\n",
       "      <th></th>\n",
       "      <th></th>\n",
       "      <th></th>\n",
       "      <th></th>\n",
       "      <th></th>\n",
       "      <th></th>\n",
       "      <th></th>\n",
       "      <th></th>\n",
       "    </tr>\n",
       "  </thead>\n",
       "  <tbody>\n",
       "    <tr>\n",
       "      <th>Eaglecrest Ski Area</th>\n",
       "      <td>Alaska</td>\n",
       "      <td>2600</td>\n",
       "      <td>1540</td>\n",
       "      <td>1200</td>\n",
       "      <td>0</td>\n",
       "      <td>0</td>\n",
       "      <td>0</td>\n",
       "      <td>0</td>\n",
       "      <td>4</td>\n",
       "      <td>0</td>\n",
       "      <td>...</td>\n",
       "      <td>640.0</td>\n",
       "      <td>60.0</td>\n",
       "      <td>45.0</td>\n",
       "      <td>44.0</td>\n",
       "      <td>350.0</td>\n",
       "      <td>47.0</td>\n",
       "      <td>53.0</td>\n",
       "      <td>90.0</td>\n",
       "      <td>0.0</td>\n",
       "      <td>0</td>\n",
       "    </tr>\n",
       "    <tr>\n",
       "      <th>Hilltop Ski Area</th>\n",
       "      <td>Alaska</td>\n",
       "      <td>2090</td>\n",
       "      <td>294</td>\n",
       "      <td>1796</td>\n",
       "      <td>0</td>\n",
       "      <td>0</td>\n",
       "      <td>0</td>\n",
       "      <td>1</td>\n",
       "      <td>0</td>\n",
       "      <td>2</td>\n",
       "      <td>...</td>\n",
       "      <td>30.0</td>\n",
       "      <td>30.0</td>\n",
       "      <td>150.0</td>\n",
       "      <td>36.0</td>\n",
       "      <td>69.0</td>\n",
       "      <td>30.0</td>\n",
       "      <td>34.0</td>\n",
       "      <td>152.0</td>\n",
       "      <td>30.0</td>\n",
       "      <td>0</td>\n",
       "    </tr>\n",
       "    <tr>\n",
       "      <th>Arizona Snowbowl</th>\n",
       "      <td>Arizona</td>\n",
       "      <td>11500</td>\n",
       "      <td>2300</td>\n",
       "      <td>9200</td>\n",
       "      <td>1</td>\n",
       "      <td>0</td>\n",
       "      <td>2</td>\n",
       "      <td>2</td>\n",
       "      <td>1</td>\n",
       "      <td>2</td>\n",
       "      <td>...</td>\n",
       "      <td>777.0</td>\n",
       "      <td>104.0</td>\n",
       "      <td>122.0</td>\n",
       "      <td>81.0</td>\n",
       "      <td>260.0</td>\n",
       "      <td>89.0</td>\n",
       "      <td>89.0</td>\n",
       "      <td>122.0</td>\n",
       "      <td>0.0</td>\n",
       "      <td>1</td>\n",
       "    </tr>\n",
       "    <tr>\n",
       "      <th>Sunrise Park Resort</th>\n",
       "      <td>Arizona</td>\n",
       "      <td>11100</td>\n",
       "      <td>1800</td>\n",
       "      <td>9200</td>\n",
       "      <td>0</td>\n",
       "      <td>1</td>\n",
       "      <td>2</td>\n",
       "      <td>3</td>\n",
       "      <td>1</td>\n",
       "      <td>0</td>\n",
       "      <td>...</td>\n",
       "      <td>800.0</td>\n",
       "      <td>80.0</td>\n",
       "      <td>115.0</td>\n",
       "      <td>49.0</td>\n",
       "      <td>250.0</td>\n",
       "      <td>74.0</td>\n",
       "      <td>78.0</td>\n",
       "      <td>104.0</td>\n",
       "      <td>80.0</td>\n",
       "      <td>1</td>\n",
       "    </tr>\n",
       "    <tr>\n",
       "      <th>Yosemite Ski &amp; Snowboard Area</th>\n",
       "      <td>California</td>\n",
       "      <td>7800</td>\n",
       "      <td>600</td>\n",
       "      <td>7200</td>\n",
       "      <td>0</td>\n",
       "      <td>0</td>\n",
       "      <td>0</td>\n",
       "      <td>1</td>\n",
       "      <td>3</td>\n",
       "      <td>1</td>\n",
       "      <td>...</td>\n",
       "      <td>88.0</td>\n",
       "      <td>0.0</td>\n",
       "      <td>110.0</td>\n",
       "      <td>84.0</td>\n",
       "      <td>300.0</td>\n",
       "      <td>47.0</td>\n",
       "      <td>47.0</td>\n",
       "      <td>107.0</td>\n",
       "      <td>0.0</td>\n",
       "      <td>2</td>\n",
       "    </tr>\n",
       "  </tbody>\n",
       "</table>\n",
       "<p>5 rows × 24 columns</p>\n",
       "</div>"
      ],
      "text/plain": [
       "                                    state  summit_elev  vertical_drop  \\\n",
       "Name                                                                    \n",
       "Eaglecrest Ski Area                Alaska         2600           1540   \n",
       "Hilltop Ski Area                   Alaska         2090            294   \n",
       "Arizona Snowbowl                  Arizona        11500           2300   \n",
       "Sunrise Park Resort               Arizona        11100           1800   \n",
       "Yosemite Ski & Snowboard Area  California         7800            600   \n",
       "\n",
       "                               base_elev  fastSixes  fastQuads  quad  triple  \\\n",
       "Name                                                                           \n",
       "Eaglecrest Ski Area                 1200          0          0     0       0   \n",
       "Hilltop Ski Area                    1796          0          0     0       1   \n",
       "Arizona Snowbowl                    9200          1          0     2       2   \n",
       "Sunrise Park Resort                 9200          0          1     2       3   \n",
       "Yosemite Ski & Snowboard Area       7200          0          0     0       1   \n",
       "\n",
       "                               double  surface  ...  SkiableTerrain_ac  \\\n",
       "Name                                            ...                      \n",
       "Eaglecrest Ski Area                 4        0  ...              640.0   \n",
       "Hilltop Ski Area                    0        2  ...               30.0   \n",
       "Arizona Snowbowl                    1        2  ...              777.0   \n",
       "Sunrise Park Resort                 1        0  ...              800.0   \n",
       "Yosemite Ski & Snowboard Area       3        1  ...               88.0   \n",
       "\n",
       "                               Snow Making_ac  daysOpenLastYear  yearsOpen  \\\n",
       "Name                                                                         \n",
       "Eaglecrest Ski Area                      60.0              45.0       44.0   \n",
       "Hilltop Ski Area                         30.0             150.0       36.0   \n",
       "Arizona Snowbowl                        104.0             122.0       81.0   \n",
       "Sunrise Park Resort                      80.0             115.0       49.0   \n",
       "Yosemite Ski & Snowboard Area             0.0             110.0       84.0   \n",
       "\n",
       "                               averageSnowfall  AdultWeekday  AdultWeekend  \\\n",
       "Name                                                                         \n",
       "Eaglecrest Ski Area                      350.0          47.0          53.0   \n",
       "Hilltop Ski Area                          69.0          30.0          34.0   \n",
       "Arizona Snowbowl                         260.0          89.0          89.0   \n",
       "Sunrise Park Resort                      250.0          74.0          78.0   \n",
       "Yosemite Ski & Snowboard Area            300.0          47.0          47.0   \n",
       "\n",
       "                               projectedDaysOpen  NightSkiing_ac  cluster  \n",
       "Name                                                                       \n",
       "Eaglecrest Ski Area                         90.0             0.0        0  \n",
       "Hilltop Ski Area                           152.0            30.0        0  \n",
       "Arizona Snowbowl                           122.0             0.0        1  \n",
       "Sunrise Park Resort                        104.0            80.0        1  \n",
       "Yosemite Ski & Snowboard Area              107.0             0.0        2  \n",
       "\n",
       "[5 rows x 24 columns]"
      ]
     },
     "execution_count": 3,
     "metadata": {},
     "output_type": "execute_result"
    }
   ],
   "source": [
    "df = pd.read_csv('/Users/tupran/Documents/Data/GitHub/GuidedCapstone/data/step3_output.csv', index_col=0)\n",
    "df.head()"
   ]
  },
  {
   "cell_type": "code",
   "execution_count": 4,
   "metadata": {},
   "outputs": [],
   "source": [
    "df.reset_index(inplace=True)\n",
    "dfs = df.drop('state', axis=1)\n",
    "dfo = pd.get_dummies(df['state'], prefix='state')\n",
    "df = pd.concat([dfs,dfo], axis=1)"
   ]
  },
  {
   "cell_type": "code",
   "execution_count": 5,
   "metadata": {},
   "outputs": [
    {
     "name": "stdout",
     "output_type": "stream",
     "text": [
      "<class 'pandas.core.frame.DataFrame'>\n",
      "RangeIndex: 278 entries, 0 to 277\n",
      "Data columns (total 59 columns):\n",
      " #   Column                Non-Null Count  Dtype  \n",
      "---  ------                --------------  -----  \n",
      " 0   Name                  278 non-null    object \n",
      " 1   summit_elev           278 non-null    int64  \n",
      " 2   vertical_drop         278 non-null    int64  \n",
      " 3   base_elev             278 non-null    int64  \n",
      " 4   fastSixes             278 non-null    int64  \n",
      " 5   fastQuads             278 non-null    int64  \n",
      " 6   quad                  278 non-null    int64  \n",
      " 7   triple                278 non-null    int64  \n",
      " 8   double                278 non-null    int64  \n",
      " 9   surface               278 non-null    int64  \n",
      " 10  total_chairs          278 non-null    int64  \n",
      " 11  Runs                  278 non-null    float64\n",
      " 12  TerrainParks          278 non-null    float64\n",
      " 13  LongestRun_mi         278 non-null    float64\n",
      " 14  SkiableTerrain_ac     278 non-null    float64\n",
      " 15  Snow Making_ac        278 non-null    float64\n",
      " 16  daysOpenLastYear      278 non-null    float64\n",
      " 17  yearsOpen             278 non-null    float64\n",
      " 18  averageSnowfall       278 non-null    float64\n",
      " 19  AdultWeekday          278 non-null    float64\n",
      " 20  AdultWeekend          278 non-null    float64\n",
      " 21  projectedDaysOpen     278 non-null    float64\n",
      " 22  NightSkiing_ac        278 non-null    float64\n",
      " 23  cluster               278 non-null    int64  \n",
      " 24  state_Alaska          278 non-null    uint8  \n",
      " 25  state_Arizona         278 non-null    uint8  \n",
      " 26  state_California      278 non-null    uint8  \n",
      " 27  state_Colorado        278 non-null    uint8  \n",
      " 28  state_Connecticut     278 non-null    uint8  \n",
      " 29  state_Idaho           278 non-null    uint8  \n",
      " 30  state_Illinois        278 non-null    uint8  \n",
      " 31  state_Indiana         278 non-null    uint8  \n",
      " 32  state_Iowa            278 non-null    uint8  \n",
      " 33  state_Maine           278 non-null    uint8  \n",
      " 34  state_Maryland        278 non-null    uint8  \n",
      " 35  state_Massachusetts   278 non-null    uint8  \n",
      " 36  state_Michigan        278 non-null    uint8  \n",
      " 37  state_Minnesota       278 non-null    uint8  \n",
      " 38  state_Missouri        278 non-null    uint8  \n",
      " 39  state_Montana         278 non-null    uint8  \n",
      " 40  state_Nevada          278 non-null    uint8  \n",
      " 41  state_New Hampshire   278 non-null    uint8  \n",
      " 42  state_New Jersey      278 non-null    uint8  \n",
      " 43  state_New Mexico      278 non-null    uint8  \n",
      " 44  state_New York        278 non-null    uint8  \n",
      " 45  state_North Carolina  278 non-null    uint8  \n",
      " 46  state_Ohio            278 non-null    uint8  \n",
      " 47  state_Oregon          278 non-null    uint8  \n",
      " 48  state_Pennsylvania    278 non-null    uint8  \n",
      " 49  state_Rhode Island    278 non-null    uint8  \n",
      " 50  state_South Dakota    278 non-null    uint8  \n",
      " 51  state_Tennessee       278 non-null    uint8  \n",
      " 52  state_Utah            278 non-null    uint8  \n",
      " 53  state_Vermont         278 non-null    uint8  \n",
      " 54  state_Virginia        278 non-null    uint8  \n",
      " 55  state_Washington      278 non-null    uint8  \n",
      " 56  state_West Virginia   278 non-null    uint8  \n",
      " 57  state_Wisconsin       278 non-null    uint8  \n",
      " 58  state_Wyoming         278 non-null    uint8  \n",
      "dtypes: float64(12), int64(11), object(1), uint8(35)\n",
      "memory usage: 61.8+ KB\n"
     ]
    }
   ],
   "source": [
    "df.info()"
   ]
  },
  {
   "cell_type": "code",
   "execution_count": 6,
   "metadata": {},
   "outputs": [
    {
     "name": "stderr",
     "output_type": "stream",
     "text": [
      "/Users/tupran/opt/miniconda3/envs/minimal_ds/lib/python3.8/site-packages/statsmodels/regression/linear_model.py:1685: RuntimeWarning: divide by zero encountered in double_scalars\n",
      "  return 1 - self.ssr/self.centered_tss\n",
      "/Users/tupran/opt/miniconda3/envs/minimal_ds/lib/python3.8/site-packages/statsmodels/stats/outliers_influence.py:193: RuntimeWarning: divide by zero encountered in double_scalars\n",
      "  vif = 1. / (1. - r_squared_i)\n"
     ]
    },
    {
     "name": "stdout",
     "output_type": "stream",
     "text": [
      "const                     0.000000\n",
      "summit_elev             834.199403\n",
      "vertical_drop            44.066433\n",
      "base_elev               686.091975\n",
      "fastSixes                 4.803150\n",
      "fastQuads                42.408749\n",
      "quad                     33.533610\n",
      "triple                   64.195865\n",
      "double                   78.777627\n",
      "surface                  83.026616\n",
      "total_chairs            325.592444\n",
      "Runs                      6.661660\n",
      "TerrainParks              1.919261\n",
      "LongestRun_mi             2.946751\n",
      "SkiableTerrain_ac         5.973052\n",
      "Snow Making_ac            2.592510\n",
      "daysOpenLastYear          2.395885\n",
      "yearsOpen                 1.339213\n",
      "averageSnowfall           5.427784\n",
      "AdultWeekday              7.745243\n",
      "AdultWeekend              8.809642\n",
      "projectedDaysOpen         2.455652\n",
      "NightSkiing_ac            1.837471\n",
      "cluster                  11.145251\n",
      "state_Alaska                   inf\n",
      "state_Arizona                  inf\n",
      "state_California               inf\n",
      "state_Colorado                 inf\n",
      "state_Connecticut              inf\n",
      "state_Idaho                    inf\n",
      "state_Illinois                 inf\n",
      "state_Indiana                  inf\n",
      "state_Iowa                     inf\n",
      "state_Maine                    inf\n",
      "state_Maryland                 inf\n",
      "state_Massachusetts            inf\n",
      "state_Michigan                 inf\n",
      "state_Minnesota                inf\n",
      "state_Missouri                 inf\n",
      "state_Montana                  inf\n",
      "state_Nevada                   inf\n",
      "state_New Hampshire            inf\n",
      "state_New Jersey               inf\n",
      "state_New Mexico               inf\n",
      "state_New York                 inf\n",
      "state_North Carolina           inf\n",
      "state_Ohio                     inf\n",
      "state_Oregon                   inf\n",
      "state_Pennsylvania             inf\n",
      "state_Rhode Island             inf\n",
      "state_South Dakota             inf\n",
      "state_Tennessee                inf\n",
      "state_Utah                     inf\n",
      "state_Vermont                  inf\n",
      "state_Virginia                 inf\n",
      "state_Washington               inf\n",
      "state_West Virginia            inf\n",
      "state_Wisconsin                inf\n",
      "state_Wyoming                  inf\n",
      "dtype: float64\n",
      "const                25.054654\n",
      "summit_elev           2.700222\n",
      "vertical_drop         5.151976\n",
      "fastSixes             1.195500\n",
      "fastQuads             2.202071\n",
      "quad                  1.455137\n",
      "triple                1.384185\n",
      "double                1.516794\n",
      "surface               1.361973\n",
      "Runs                  4.436118\n",
      "TerrainParks          1.800989\n",
      "LongestRun_mi         2.403659\n",
      "SkiableTerrain_ac     3.935970\n",
      "Snow Making_ac        2.161951\n",
      "daysOpenLastYear      2.175128\n",
      "yearsOpen             1.189850\n",
      "averageSnowfall       3.236623\n",
      "AdultWeekday          2.324477\n",
      "projectedDaysOpen     2.121476\n",
      "NightSkiing_ac        1.387156\n",
      "dtype: float64\n"
     ]
    }
   ],
   "source": [
    "df_before = df.iloc[:,1:]\n",
    "df_after = df[['summit_elev','vertical_drop','fastSixes','fastQuads',\n",
    "            'quad', 'triple', 'double', 'surface','Runs', 'TerrainParks', \n",
    "            'LongestRun_mi','SkiableTerrain_ac','Snow Making_ac', \n",
    "            'daysOpenLastYear', 'yearsOpen', 'averageSnowfall',\n",
    "            'AdultWeekday', 'projectedDaysOpen', 'NightSkiing_ac']]\n",
    "\n",
    "X1 = sm.tools.add_constant(df_before)\n",
    "X2 = sm.tools.add_constant(df_after)\n",
    "\n",
    "\n",
    "series_before = pd.Series([variance_inflation_factor(X1.values,i) for i in range(X1.shape[1])],index=X1.columns)\n",
    "series_after = pd.Series([variance_inflation_factor(X2.values,i) for i in range(X2.shape[1])],index=X2.columns)\n",
    "\n",
    "print(series_before)\n",
    "print(series_after)\n"
   ]
  },
  {
   "cell_type": "code",
   "execution_count": 7,
   "metadata": {},
   "outputs": [],
   "source": [
    "features = ['summit_elev','vertical_drop','fastSixes','fastQuads',\n",
    "            'quad', 'triple', 'double', 'surface','Runs', 'TerrainParks', \n",
    "            'LongestRun_mi','SkiableTerrain_ac','Snow Making_ac',\n",
    "            'daysOpenLastYear', 'yearsOpen', 'averageSnowfall','AdultWeekday', \n",
    "            'projectedDaysOpen', 'NightSkiing_ac']"
   ]
  },
  {
   "cell_type": "code",
   "execution_count": 8,
   "metadata": {},
   "outputs": [],
   "source": [
    "y = df[['AdultWeekend']]\n",
    "X = df[features]"
   ]
  },
  {
   "cell_type": "code",
   "execution_count": 11,
   "metadata": {},
   "outputs": [],
   "source": [
    "from sklearn.model_selection import train_test_split\n",
    "X_train, X_test, y_train, y_test = train_test_split(X,y,test_size=0.25, random_state = 1)"
   ]
  },
  {
   "cell_type": "code",
   "execution_count": 12,
   "metadata": {},
   "outputs": [],
   "source": [
    "from sklearn import linear_model\n",
    "from sklearn.metrics import explained_variance_score,mean_absolute_error\n",
    "lm = linear_model.LinearRegression()\n",
    "model = lm.fit(X_train, y_train)"
   ]
  },
  {
   "cell_type": "code",
   "execution_count": 13,
   "metadata": {},
   "outputs": [],
   "source": [
    "y_pred = lm.predict(X_test)"
   ]
  },
  {
   "cell_type": "code",
   "execution_count": 14,
   "metadata": {},
   "outputs": [
    {
     "name": "stdout",
     "output_type": "stream",
     "text": [
      "R2 Score with all Features: 0.8304935530816254\n",
      "Mean Absolute Error with all Features: 6.425552612261769\n",
      "The Explained Variance Score is : 0.8306980728345931\n"
     ]
    }
   ],
   "source": [
    "print('R2 Score with all Features:', lm.score(X_test, y_test))\n",
    "print('Mean Absolute Error with all Features:', mean_absolute_error(y_test, y_pred))\n",
    "print('The Explained Variance Score is :', explained_variance_score(y_test, y_pred))"
   ]
  },
  {
   "cell_type": "markdown",
   "metadata": {
    "colab_type": "text",
    "id": "GGizyeLZGUYz"
   },
   "source": [
    "## Review the results "
   ]
  },
  {
   "cell_type": "markdown",
   "metadata": {
    "colab_type": "text",
    "id": "4Lhu-qisGUY0"
   },
   "source": [
    "**<font color='teal'> Now, let's predict the Big Mountain Weekend price with our model in order to provide a recommendation to our managers on how to price the `AdultWeekend` lift ticket. First we need to find the row for Big Mountain resort in our data using string contains or string matching.</font>**"
   ]
  },
  {
   "cell_type": "code",
   "execution_count": 15,
   "metadata": {
    "colab": {},
    "colab_type": "code",
    "id": "YXnx_IuEGUY1"
   },
   "outputs": [
    {
     "data": {
      "text/html": [
       "<div>\n",
       "<style scoped>\n",
       "    .dataframe tbody tr th:only-of-type {\n",
       "        vertical-align: middle;\n",
       "    }\n",
       "\n",
       "    .dataframe tbody tr th {\n",
       "        vertical-align: top;\n",
       "    }\n",
       "\n",
       "    .dataframe thead th {\n",
       "        text-align: right;\n",
       "    }\n",
       "</style>\n",
       "<table border=\"1\" class=\"dataframe\">\n",
       "  <thead>\n",
       "    <tr style=\"text-align: right;\">\n",
       "      <th></th>\n",
       "      <th>Name</th>\n",
       "      <th>Region</th>\n",
       "      <th>state</th>\n",
       "      <th>summit_elev</th>\n",
       "      <th>vertical_drop</th>\n",
       "      <th>base_elev</th>\n",
       "      <th>trams</th>\n",
       "      <th>fastEight</th>\n",
       "      <th>fastSixes</th>\n",
       "      <th>fastQuads</th>\n",
       "      <th>...</th>\n",
       "      <th>LongestRun_mi</th>\n",
       "      <th>SkiableTerrain_ac</th>\n",
       "      <th>Snow Making_ac</th>\n",
       "      <th>daysOpenLastYear</th>\n",
       "      <th>yearsOpen</th>\n",
       "      <th>averageSnowfall</th>\n",
       "      <th>AdultWeekday</th>\n",
       "      <th>AdultWeekend</th>\n",
       "      <th>projectedDaysOpen</th>\n",
       "      <th>NightSkiing_ac</th>\n",
       "    </tr>\n",
       "  </thead>\n",
       "  <tbody>\n",
       "  </tbody>\n",
       "</table>\n",
       "<p>0 rows × 27 columns</p>\n",
       "</div>"
      ],
      "text/plain": [
       "Empty DataFrame\n",
       "Columns: [Name, Region, state, summit_elev, vertical_drop, base_elev, trams, fastEight, fastSixes, fastQuads, quad, triple, double, surface, total_chairs, Runs, TerrainParks, LongestRun_mi, SkiableTerrain_ac, Snow Making_ac, daysOpenLastYear, yearsOpen, averageSnowfall, AdultWeekday, AdultWeekend, projectedDaysOpen, NightSkiing_ac]\n",
       "Index: []\n",
       "\n",
       "[0 rows x 27 columns]"
      ]
     },
     "execution_count": 15,
     "metadata": {},
     "output_type": "execute_result"
    }
   ],
   "source": [
    "df_old = pd.read_csv('/Users/tupran/Documents/Data/GitHub/GuidedCapstone/data/updated_ski_data.csv', index_col=0)\n",
    "df_old.reset_index(inplace=True)\n",
    "df_old[df_old['Name'].str.contains('Big Mountain')]"
   ]
  },
  {
   "cell_type": "markdown",
   "metadata": {
    "colab_type": "text",
    "id": "83-jO9hPGUY4"
   },
   "source": [
    "**<font color='teal'> Prepare the Big Mountain resort data row as you did in the model fitting stage.</font>**"
   ]
  },
  {
   "cell_type": "code",
   "execution_count": 16,
   "metadata": {},
   "outputs": [
    {
     "data": {
      "text/html": [
       "<div>\n",
       "<style scoped>\n",
       "    .dataframe tbody tr th:only-of-type {\n",
       "        vertical-align: middle;\n",
       "    }\n",
       "\n",
       "    .dataframe tbody tr th {\n",
       "        vertical-align: top;\n",
       "    }\n",
       "\n",
       "    .dataframe thead th {\n",
       "        text-align: right;\n",
       "    }\n",
       "</style>\n",
       "<table border=\"1\" class=\"dataframe\">\n",
       "  <thead>\n",
       "    <tr style=\"text-align: right;\">\n",
       "      <th></th>\n",
       "      <th>Features</th>\n",
       "      <th>Coef</th>\n",
       "    </tr>\n",
       "  </thead>\n",
       "  <tbody>\n",
       "    <tr>\n",
       "      <th>2</th>\n",
       "      <td>fastSixes</td>\n",
       "      <td>2.719868</td>\n",
       "    </tr>\n",
       "    <tr>\n",
       "      <th>4</th>\n",
       "      <td>quad</td>\n",
       "      <td>1.750130</td>\n",
       "    </tr>\n",
       "    <tr>\n",
       "      <th>3</th>\n",
       "      <td>fastQuads</td>\n",
       "      <td>1.536918</td>\n",
       "    </tr>\n",
       "    <tr>\n",
       "      <th>5</th>\n",
       "      <td>triple</td>\n",
       "      <td>1.129581</td>\n",
       "    </tr>\n",
       "    <tr>\n",
       "      <th>16</th>\n",
       "      <td>AdultWeekday</td>\n",
       "      <td>0.738107</td>\n",
       "    </tr>\n",
       "    <tr>\n",
       "      <th>6</th>\n",
       "      <td>double</td>\n",
       "      <td>0.626178</td>\n",
       "    </tr>\n",
       "    <tr>\n",
       "      <th>10</th>\n",
       "      <td>LongestRun_mi</td>\n",
       "      <td>0.071340</td>\n",
       "    </tr>\n",
       "    <tr>\n",
       "      <th>8</th>\n",
       "      <td>Runs</td>\n",
       "      <td>0.035709</td>\n",
       "    </tr>\n",
       "    <tr>\n",
       "      <th>17</th>\n",
       "      <td>projectedDaysOpen</td>\n",
       "      <td>0.022337</td>\n",
       "    </tr>\n",
       "    <tr>\n",
       "      <th>18</th>\n",
       "      <td>NightSkiing_ac</td>\n",
       "      <td>0.010260</td>\n",
       "    </tr>\n",
       "    <tr>\n",
       "      <th>13</th>\n",
       "      <td>daysOpenLastYear</td>\n",
       "      <td>0.007893</td>\n",
       "    </tr>\n",
       "    <tr>\n",
       "      <th>1</th>\n",
       "      <td>vertical_drop</td>\n",
       "      <td>0.003177</td>\n",
       "    </tr>\n",
       "    <tr>\n",
       "      <th>14</th>\n",
       "      <td>yearsOpen</td>\n",
       "      <td>0.001864</td>\n",
       "    </tr>\n",
       "    <tr>\n",
       "      <th>12</th>\n",
       "      <td>Snow Making_ac</td>\n",
       "      <td>0.000479</td>\n",
       "    </tr>\n",
       "    <tr>\n",
       "      <th>0</th>\n",
       "      <td>summit_elev</td>\n",
       "      <td>-0.000393</td>\n",
       "    </tr>\n",
       "    <tr>\n",
       "      <th>15</th>\n",
       "      <td>averageSnowfall</td>\n",
       "      <td>-0.004897</td>\n",
       "    </tr>\n",
       "    <tr>\n",
       "      <th>11</th>\n",
       "      <td>SkiableTerrain_ac</td>\n",
       "      <td>-0.005954</td>\n",
       "    </tr>\n",
       "    <tr>\n",
       "      <th>9</th>\n",
       "      <td>TerrainParks</td>\n",
       "      <td>-0.466398</td>\n",
       "    </tr>\n",
       "    <tr>\n",
       "      <th>7</th>\n",
       "      <td>surface</td>\n",
       "      <td>-0.526471</td>\n",
       "    </tr>\n",
       "  </tbody>\n",
       "</table>\n",
       "</div>"
      ],
      "text/plain": [
       "             Features      Coef\n",
       "2           fastSixes  2.719868\n",
       "4                quad  1.750130\n",
       "3           fastQuads  1.536918\n",
       "5              triple  1.129581\n",
       "16       AdultWeekday  0.738107\n",
       "6              double  0.626178\n",
       "10      LongestRun_mi  0.071340\n",
       "8                Runs  0.035709\n",
       "17  projectedDaysOpen  0.022337\n",
       "18     NightSkiing_ac  0.010260\n",
       "13   daysOpenLastYear  0.007893\n",
       "1       vertical_drop  0.003177\n",
       "14          yearsOpen  0.001864\n",
       "12     Snow Making_ac  0.000479\n",
       "0         summit_elev -0.000393\n",
       "15    averageSnowfall -0.004897\n",
       "11  SkiableTerrain_ac -0.005954\n",
       "9        TerrainParks -0.466398\n",
       "7             surface -0.526471"
      ]
     },
     "execution_count": 16,
     "metadata": {},
     "output_type": "execute_result"
    }
   ],
   "source": [
    "top_feat = pd.DataFrame(X.columns)\n",
    "top_feat.columns = ['Features']\n",
    "slope = lm.coef_.reshape(-1,1)\n",
    "top_feat['Coef'] = slope\n",
    "top_feat.sort_values(by='Coef',ascending=False)"
   ]
  },
  {
   "cell_type": "code",
   "execution_count": 17,
   "metadata": {
    "colab": {},
    "colab_type": "code",
    "id": "oWH_q9YOGUY5"
   },
   "outputs": [],
   "source": [
    "list_cols =['summit_elev','vertical_drop','fastSixes','fastQuads',\n",
    "            'quad', 'triple', 'double', 'surface','Runs', 'TerrainParks', \n",
    "            'LongestRun_mi','SkiableTerrain_ac','Snow Making_ac',\n",
    "            'daysOpenLastYear', 'yearsOpen', 'averageSnowfall','AdultWeekday', \n",
    "            'projectedDaysOpen', 'NightSkiing_ac']\n",
    "list_values = [6817,2353,2,3,2,2,2,0,30,0,3.3,3000,3000,200,73,333,100,200,3000]\n",
    "\n",
    "resort_bm = pd.DataFrame([list_values], columns=list_cols)"
   ]
  },
  {
   "cell_type": "markdown",
   "metadata": {
    "colab_type": "text",
    "id": "2BCFqZYBGUY9"
   },
   "source": [
    "**<font color='teal'> Predict the Big Mountain resort `Adult Weekend` price and print it out.</font>** This is our expected price to present to management. Based on our model given the characteristics of the resort in comparison to other ski resorts and their unique characteristics."
   ]
  },
  {
   "cell_type": "code",
   "execution_count": 19,
   "metadata": {
    "colab": {},
    "colab_type": "code",
    "id": "XebWxxTMGUY-"
   },
   "outputs": [
    {
     "data": {
      "text/plain": [
       "array([[130.55406546]])"
      ]
     },
     "execution_count": 19,
     "metadata": {},
     "output_type": "execute_result"
    }
   ],
   "source": [
    "pred = lm.predict(resort_bm)\n",
    "pred"
   ]
  },
  {
   "cell_type": "markdown",
   "metadata": {
    "colab_type": "text",
    "id": "_5BvguMLGUZB"
   },
   "source": [
    "**<font color='teal'> Print the Big Mountain resort actual `Adult Weekend` price.</font>**"
   ]
  },
  {
   "cell_type": "code",
   "execution_count": null,
   "metadata": {
    "colab": {},
    "colab_type": "code",
    "id": "WyxTHtL2GUZC"
   },
   "outputs": [],
   "source": []
  },
  {
   "cell_type": "markdown",
   "metadata": {
    "colab_type": "text",
    "id": "O0Yli8MXGUZH"
   },
   "source": [
    "**<font color='teal'> As part of reviewing the results it is an important step to generate figures to visualize the data story. We can use the clusters we added to our data frame to create scatter plots for visualizing the Adult Weekend values compared to other characteristics. Run the example below to get you started and build two or three more figures to include in your data story telling.</font>**"
   ]
  },
  {
   "cell_type": "code",
   "execution_count": 20,
   "metadata": {
    "colab": {},
    "colab_type": "code",
    "id": "xWtr873fGUZI"
   },
   "outputs": [
    {
     "data": {
      "image/png": "[encoded data removed]",
      "text/plain": [
       "<Figure size 432x288 with 1 Axes>"
      ]
     },
     "metadata": {
      "needs_background": "light"
     },
     "output_type": "display_data"
    }
   ],
   "source": [
    "plt.scatter(df['summit_elev'], df['vertical_drop'], c=df['cluster'], s=50, cmap='viridis', label ='cluster')\n",
    "plt.scatter(resort_bm['summit_elev'], resort_bm['vertical_drop'], c='black', s=100)\n",
    "plt.xlabel('summit_elev')\n",
    "plt.ylabel('vertical_drop')\n",
    "plt.title('summit_elev by vertical_drop by cluster')\n",
    "plt.savefig('/Users/tupran/Documents/Data/GitHub/GuidedCapstone/figures/fig1.png',bbox_inches='tight')"
   ]
  },
  {
   "cell_type": "code",
   "execution_count": null,
   "metadata": {
    "colab": {},
    "colab_type": "code",
    "id": "kGvf4kTwGUZR"
   },
   "outputs": [],
   "source": []
  },
  {
   "cell_type": "code",
   "execution_count": null,
   "metadata": {
    "colab": {},
    "colab_type": "code",
    "id": "OYZB84hYGUZU"
   },
   "outputs": [],
   "source": []
  },
  {
   "cell_type": "markdown",
   "metadata": {
    "colab_type": "text",
    "id": "giLKE2WMGUZh"
   },
   "source": [
    "## Finalize Code"
   ]
  },
  {
   "cell_type": "markdown",
   "metadata": {
    "colab_type": "text",
    "id": "pps_ASHoGUZi"
   },
   "source": [
    " Making sure our code is well organized and easy to follow is an important step. This is the time where you need to review the notebooks and python scripts you have created and clean them n=up so they are easy to follow and succinct in nature. Addtionally, we will also save our final model out a callable object using pickle for future use in a data pipeline.**<font color='teal'> Run the example code below to save out your callable model, notice we save it in the models folder we created in our previous guided capstone.</font>** "
   ]
  },
  {
   "cell_type": "code",
   "execution_count": 21,
   "metadata": {
    "colab": {},
    "colab_type": "code",
    "id": "X_h0tkt_GUZj"
   },
   "outputs": [
    {
     "data": {
      "text/plain": [
       "['//Users/tupran/Documents/Data/GitHub/GuidedCapstone/models/regression_model_adultweekend.joblib']"
      ]
     },
     "execution_count": 21,
     "metadata": {},
     "output_type": "execute_result"
    }
   ],
   "source": [
    "import pickle\n",
    "s = pickle.dumps(model)\n",
    "from joblib import dump, load\n",
    "dump(model, '//Users/tupran/Documents/Data/GitHub/GuidedCapstone/models/regression_model_adultweekend.joblib') "
   ]
  },
  {
   "cell_type": "markdown",
   "metadata": {
    "colab_type": "text",
    "id": "MTVrVlerGUZn"
   },
   "source": [
    "## Finalize Documentation"
   ]
  },
  {
   "cell_type": "markdown",
   "metadata": {
    "colab_type": "text",
    "id": "thEMyu-DGUZo"
   },
   "source": [
    "For model documentation we want to save the model performance metrics as well as the features included in the final model. You could also save the model perfomance metrics and coefficients fo the other models you tried in case you want to refer to them later. **<font color='teal'> Create a dataframe containing the coefficients and the model performance metrics and save it out as a csv file then upload it to your github repository.</font>** "
   ]
  },
  {
   "cell_type": "code",
   "execution_count": 102,
   "metadata": {},
   "outputs": [],
   "source": [
    "final = ['summit_elev','vertical_drop','fastSixes','fastQuads',\n",
    "            'quad', 'triple', 'double', 'surface','Runs', 'TerrainParks', \n",
    "            'LongestRun_mi','SkiableTerrain_ac','Snow Making_ac',\n",
    "            'daysOpenLastYear', 'yearsOpen', 'averageSnowfall','AdultWeekday', \n",
    "            'projectedDaysOpen', 'NightSkiing_ac']\n",
    "\n",
    "df_metrics = pd.DataFrame()\n",
    "df_metrics['Features'] = final\n",
    "df_metrics['Coef'] = lm.coef_.reshape(-1,1)\n",
    "\n",
    "dic = {'Features':'R2 Score', 'Coef':lm.score(X_test, y_test)}\n",
    "dic1 ={'Features':'MAE','Coef':mean_absolute_error(y_test, y_pred)}\n",
    "dic2 ={'Features':'Exp Var Score','Coef':explained_variance_score(y_test, y_pred)}     \n",
    "\n",
    "\n",
    "df_metrics = df_metrics.append(dic,ignore_index=True)\n",
    "df_metrics = df_metrics.append(dic1,ignore_index=True)\n",
    "df_metrics = df_metrics.append(dic2,ignore_index=True)\n",
    "df_metrics.to_csv('/Users/tupran/Documents/Data/GitHub/GuidedCapstone/data/model_metrics.csv')"
   ]
  }
 ],
 "metadata": {
  "colab": {
   "collapsed_sections": [
    "RtEspslPZyGY",
    "s0DokMkAZyGc",
    "2iuitnKcZyHS",
    "iAWQxougZyHW",
    "ThMTimlBZyHZ",
    "QwZ-LkjXZyHt",
    "srtXEA3N4-Y9",
    "ChVreJupZyIA",
    "zDgSSsq1ZyID",
    "I3GYKWfi5Llg",
    "pmMvrhbI-viE",
    "ZXDPkW3UZyIX",
    "Dnc_vHQLZyId",
    "daJxuJ-dZyIg",
    "mAQ-oHiPZyIn",
    "hnGOsp3mZyIp"
   ],
   "name": "GuidedCapstoneStep6.ipynb",
   "provenance": [],
   "toc_visible": true
  },
  "kernelspec": {
   "display_name": "Python 3",
   "language": "python",
   "name": "python3"
  },
  "language_info": {
   "codemirror_mode": {
    "name": "ipython",
    "version": 3
   },
   "file_extension": ".py",
   "mimetype": "text/x-python",
   "name": "python",
   "nbconvert_exporter": "python",
   "pygments_lexer": "ipython3",
   "version": "3.8.2"
  },
  "toc": {
   "base_numbering": "0",
   "nav_menu": {},
   "number_sections": true,
   "sideBar": true,
   "skip_h1_title": false,
   "title_cell": "Table of Contents",
   "title_sidebar": "Contents",
   "toc_cell": true,
   "toc_position": {
    "height": "calc(100% - 180px)",
    "left": "10px",
    "top": "150px",
    "width": "288px"
   },
   "toc_section_display": true,
   "toc_window_display": true
  }
 },
 "nbformat": 4,
 "nbformat_minor": 1
}
